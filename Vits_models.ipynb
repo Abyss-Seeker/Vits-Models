{
  "cells": [
    {
      "cell_type": "markdown",
      "metadata": {
        "id": "view-in-github",
        "colab_type": "text"
      },
      "source": [
        "<a href=\"https://colab.research.google.com/github/Abyss-Seeker/Vits-Models-On-Colab/blob/main/Vits_models.ipynb\" target=\"_parent\"><img src=\"https://colab.research.google.com/assets/colab-badge.svg\" alt=\"Open In Colab\"/></a>"
      ]
    },
    {
      "cell_type": "markdown",
      "source": [
        "# Vits-model\n",
        "\n",
        "## **往下翻~**\n",
        "\n",
        "###Credits:\n",
        "\n",
        "Original Colab: https://colab.research.google.com/drive/10QOk9NPgoKZUXkIhhuVaZ7SYra1MPMKH?usp=share_link#scrollTo=_t6-BQZvNABJ\n",
        "\n",
        "Original Project: https://huggingface.co/spaces/zomehwh/vits-models\n",
        "\n",
        "****\n",
        "\n",
        ">本colab文件基于 huggingface上的zomehwh/vits-models修改。原作者给出了colab，这里只是改进了一下colab文件，使其连到google drive上并且可以保存环境啊model啊啥的（生成的音频不行），毕竟这样每次想用都能方便一些。\n",
        "\n",
        ">底下有不详细的教程。\n",
        "\n",
        "****\n",
        "\n",
        "By @Abyss_Seeker!\n",
        "\n",
        "wechatID: jasperSHSID\n",
        "\n",
        "github: https://github.com/Abyss-Seeker\n",
        "\n",
        "****\n",
        "\n",
        "(如果你还不知道的话）project作用：以一些角色的声音读文字输入。目前似乎大多数支持日文和中文。有一些铁道，碧蓝，蒜，公主连结，原，崩坏3和overwatch的角色。支持中文/英文UI。\n",
        "\n",
        "\n",
        "\n",
        "All pretrained models list: https://huggingface.co/spaces/zomehwh/vits-models/blob/main/pretrained_models/info.json\n",
        "\n",
        "****\n",
        "##Good luck, have fun!\n",
        "![:>](https://github.com/Abyss-Seeker/Random-Resources/blob/main/%E3%81%88%E3%81%BC%E3%81%97_%E3%83%95%E3%82%A1%E3%83%97%E3%82%BF%E5%A7%AB_107376242_p0.gif?raw=true \"Faputa gif by pixiv artist えぼし, artwork ID 107376242\")"
      ],
      "metadata": {
        "id": "uqbL8BqwGOsC"
      }
    },
    {
      "cell_type": "markdown",
      "source": [
        "#使用方式\n",
        "##第一次运行\n",
        "把所有代码块从上到下点一次—（1~7）即可。可能需要比较久，约20分钟不到。请确保你再弹出google drive连接申请的时候点同意，并且不要忘了看看有没有跳出recaptcha（如果跳出来了但一段时间没验证的话会自动停）\n",
        "\n",
        "在所有代码块运行完以后，最后一个代码块的最后几行应该能看到类似\n",
        "\n",
        "运行代码块的方式就是，你把鼠标放到代码块附近，代码块的左上角会出现类似播放键的按钮。点一下就好了（为啥我要解释？有一个叫Henry的人不会用）。\n",
        "\n",
        "\n",
        "```\n",
        "Running on local URL:  http://127.0.0.1:7860\n",
        "DEBUG:urllib3.connectionpool:Starting new HTTPS connection (1): api.gradio.app:443\n",
        "DEBUG:urllib3.connectionpool:https://api.gradio.app:443 \"GET /v2/tunnel-request HTTP/1.1\" 200 None\n",
        "Running on public URL: https://2529d1e0-6d2b-4f8a.gradio.live\n",
        "```\n",
        "之类的消息。这边点击那些URL (local/public任选其一)即可运行。\n",
        "加载出WebUI以后怎么用相信各位都会吧（蛮简单的，自然就会了）。\n",
        "\n",
        "****\n",
        "##第N次运行（N>1)\n",
        "只需要按照顺序点代码块**1，4，7**即可。剩下的与上面一样。\n",
        "****\n",
        "##另\n",
        ">请确保你的google drive里面有一定空间(大概需要11.11GB。免费的google drive上限15GB)！\n",
        "\n",
        ">有的时候要是你用colab过多它会显示你已经到了限额。像这种就得等个一天或者切一个账号。\n",
        "\n",
        ">注意换完账号记得所有代码块得按照第一次运行先都跑一遍，因为你drive会换。"
      ],
      "metadata": {
        "id": "UZdMb14UHa-D"
      }
    },
    {
      "cell_type": "markdown",
      "source": [],
      "metadata": {
        "id": "0bnJLyLgJoIn"
      }
    },
    {
      "cell_type": "code",
      "source": [
        "#@title 1- 授权Google Drive，检查GPU\n",
        "from google.colab import drive\n",
        "drive.mount('/content/gdrive')\n",
        "\n",
        "import os\n",
        "import subprocess\n",
        "\n",
        "# 配置vits所在文件夹名称\n",
        "Drive_Name = 'Vi' #@param {type:'string'}\n",
        "\n",
        "# 连接到Google Drive\n",
        "drive.mount('/content/gdrive')\n",
        "gdrive_path = '/content/gdrive/MyDrive/'\n",
        "\n",
        "# 创建目录\n",
        "vi_dir = os.path.join(gdrive_path, Drive_Name)\n",
        "webui_dir = os.path.join(gdrive_path, Drive_Name, 'vits-models') # 记得改\n",
        "os.makedirs(vi_dir, exist_ok=True)\n",
        "\n",
        "try:\n",
        "    # 检查GPU\n",
        "    gpuinfo = subprocess.run(['nvidia-smi', '--query-gpu=name', '--format=csv,noheader'], stdout=subprocess.PIPE).stdout.decode('utf-8')\n",
        "    if 'M4000' in gpuinfo:\n",
        "        print(\"注意: 你正在使用的是 Quadro M4000 GPU，它将无法使用 xformers。\")\n",
        "    else:\n",
        "        print(\"当前使用：\" + gpuinfo.strip())\n",
        "except:\n",
        "    print(\"没有GPU可使用，请检查你的运行时类型\")\n",
        "    exit()"
      ],
      "metadata": {
        "id": "nr_LawcMgmDo",
        "cellView": "form"
      },
      "execution_count": null,
      "outputs": []
    },
    {
      "cell_type": "code",
      "source": [
        "#@title 2-下载python（只需第一次运行）\n",
        "!sudo apt-get install python3.8 python3.8-dev python3.8-distutils libpython3.8-dev\n",
        "!sudo update-alternatives --install /usr/bin/python3 python3 /usr/bin/python3.8 114514\n",
        "!curl https://bootstrap.pypa.io/get-pip.py -o get-pip.py\n",
        "!python3 get-pip.py --force-reinstall\n",
        "\n",
        "# 将Python环境保存到Google Drive\n",
        "!cp -r /usr/local/lib/python3.8/dist-packages $vi_dir/python_env"
      ],
      "metadata": {
        "id": "e_M8cQcen1TV",
        "cellView": "form"
      },
      "execution_count": null,
      "outputs": []
    },
    {
      "cell_type": "code",
      "execution_count": null,
      "metadata": {
        "id": "5scm93WUMhmc",
        "cellView": "form"
      },
      "outputs": [],
      "source": [
        "#@title 3-下载仓库（只需第一次运行）\n",
        "%cd $vi_dir\n",
        "!apt install git-lfs\n",
        "!git lfs install\n",
        "\n",
        "# 克隆vits-models仓库\n",
        "!git clone https://huggingface.co/spaces/zomehwh/vits-models {webui_dir}"
      ]
    },
    {
      "cell_type": "code",
      "execution_count": null,
      "metadata": {
        "id": "_t6-BQZvNABJ",
        "cellView": "form"
      },
      "outputs": [],
      "source": [
        "#@title 4- 转路径\n",
        "%cd {webui_dir}"
      ]
    },
    {
      "cell_type": "code",
      "source": [
        "#@title 5-下载pip（只需第一次运行）\n",
        "!python3 -m pip install pip==21.3.1\n",
        "# Though this process seems repetitive, it IS needed or some random error will pop out in step 6"
      ],
      "metadata": {
        "id": "42PrxwyErRLb",
        "cellView": "form"
      },
      "execution_count": null,
      "outputs": []
    },
    {
      "cell_type": "code",
      "execution_count": null,
      "metadata": {
        "id": "hX3-O0u_rRLe",
        "cellView": "form"
      },
      "outputs": [],
      "source": [
        "#@title 6-下载需要的模块（只需第一次运行）\n",
        "!python3 -m pip install -r requirements.txt\n",
        "\n",
        "# 将已安装的依赖模块保存到Google Drive\n",
        "!pip freeze > $vi_dir/python_env/requirements.txt"
      ]
    },
    {
      "cell_type": "code",
      "execution_count": null,
      "metadata": {
        "id": "aDdfMvEcrRLe",
        "cellView": "form"
      },
      "outputs": [],
      "source": [
        "#@title 7- vits models, 启动！\n",
        "!python3 app.py --share --device cuda --all"
      ]
    }
  ],
  "metadata": {
    "colab": {
      "provenance": [],
      "toc_visible": true,
      "include_colab_link": true
    },
    "kernelspec": {
      "display_name": "Python 3",
      "name": "python3"
    },
    "language_info": {
      "name": "python"
    },
    "accelerator": "GPU",
    "gpuClass": "standard"
  },
  "nbformat": 4,
  "nbformat_minor": 0
}